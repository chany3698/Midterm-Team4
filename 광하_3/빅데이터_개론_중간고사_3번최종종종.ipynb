{
  "nbformat": 4,
  "nbformat_minor": 0,
  "metadata": {
    "colab": {
      "provenance": []
    },
    "kernelspec": {
      "name": "python3",
      "display_name": "Python 3"
    },
    "language_info": {
      "name": "python"
    }
  },
  "cells": [
    {
      "cell_type": "code",
      "execution_count": 16,
      "metadata": {
        "colab": {
          "base_uri": "https://localhost:8080/"
        },
        "id": "tXP5jWswFy87",
        "outputId": "238f13a6-9d26-4772-b0a8-c690090f70f5"
      },
      "outputs": [
        {
          "output_type": "stream",
          "name": "stdout",
          "text": [
            "     id                                              name  host_id  \\\n",
            "0  2539                Clean & quiet apt home by the park     2787   \n",
            "1  2595                             Skylit Midtown Castle     2845   \n",
            "2  3647               THE VILLAGE OF HARLEM....NEW YORK !     4632   \n",
            "3  3831                   Cozy Entire Floor of Brownstone     4869   \n",
            "4  5022  Entire Apt: Spacious Studio/Loft by central park     7192   \n",
            "\n",
            "     host_name neighbourhood_group neighbourhood  latitude  longitude  \\\n",
            "0         John            Brooklyn    Kensington  40.64749  -73.97237   \n",
            "1     Jennifer           Manhattan       Midtown  40.75362  -73.98377   \n",
            "2    Elisabeth           Manhattan        Harlem  40.80902  -73.94190   \n",
            "3  LisaRoxanne            Brooklyn  Clinton Hill  40.68514  -73.95976   \n",
            "4        Laura           Manhattan   East Harlem  40.79851  -73.94399   \n",
            "\n",
            "         room_type  price  minimum_nights  number_of_reviews last_review  \\\n",
            "0     Private room    149               1                  9  2018-10-19   \n",
            "1  Entire home/apt    225               1                 45  2019-05-21   \n",
            "2     Private room    150               3                  0         NaN   \n",
            "3  Entire home/apt     89               1                270  2019-07-05   \n",
            "4  Entire home/apt     80              10                  9  2018-11-19   \n",
            "\n",
            "   reviews_per_month  calculated_host_listings_count  availability_365  \n",
            "0               0.21                               6               365  \n",
            "1               0.38                               2               355  \n",
            "2                NaN                               1               365  \n",
            "3               4.64                               1               194  \n",
            "4               0.10                               1                 0  \n"
          ]
        }
      ],
      "source": [
        "import pandas as pd\n",
        "df = pd.read_csv('3_AB.csv')\n",
        "print(df.head())"
      ]
    },
    {
      "cell_type": "code",
      "source": [
        "print(df.isnull().sum())"
      ],
      "metadata": {
        "colab": {
          "base_uri": "https://localhost:8080/"
        },
        "id": "v77uwyVuGzz6",
        "outputId": "42a7cb1c-9414-4e00-b572-41cfefe130b5"
      },
      "execution_count": 17,
      "outputs": [
        {
          "output_type": "stream",
          "name": "stdout",
          "text": [
            "id                                    0\n",
            "name                                 16\n",
            "host_id                               0\n",
            "host_name                            21\n",
            "neighbourhood_group                   0\n",
            "neighbourhood                         0\n",
            "latitude                              0\n",
            "longitude                             0\n",
            "room_type                             0\n",
            "price                                 0\n",
            "minimum_nights                        0\n",
            "number_of_reviews                     0\n",
            "last_review                       10052\n",
            "reviews_per_month                 10052\n",
            "calculated_host_listings_count        0\n",
            "availability_365                      0\n",
            "dtype: int64\n"
          ]
        }
      ]
    },
    {
      "cell_type": "code",
      "source": [],
      "metadata": {
        "id": "_twB1HHIJJcS"
      },
      "execution_count": null,
      "outputs": []
    },
    {
      "cell_type": "code",
      "source": [
        "# 컬럼명 변경\n",
        "df = df.rename(columns={\n",
        "    'id': '숙소 ID (고유 식별 번호)',\n",
        "    'name': '숙소 이름',\n",
        "    'host_id': '호스트 ID (고유 번호)',\n",
        "    'host_name': '호스트 이름',\n",
        "    'neighbourhood_group': '지역 그룹',\n",
        "    'neighbourhood': '세부 지역',\n",
        "    'latitude': '숙소 위도',\n",
        "    'longitude': '숙소 경도',\n",
        "    'room_type': '객실 유형',\n",
        "    'price': '1박당 숙박 가격 (USD)',\n",
        "    'minimum_nights': '최소 숙박 일수',\n",
        "    'number_of_reviews': '리뷰 수',\n",
        "    'last_review': '마지막 리뷰 날짜',\n",
        "    'reviews_per_month': '월 평균 리뷰 수',\n",
        "    'calculated_host_listings_count': '호스트가 등록한 숙소 수',\n",
        "    'availability_365': '연간 예약 가능 일수 (0~365)',\n",
        "    'number_of_reviews_ltm': '최근 12개월 내 리뷰 수',\n",
        "    'license': '숙박업 면허 정보'\n",
        "})"
      ],
      "metadata": {
        "id": "2Hy5dOaDHD-p"
      },
      "execution_count": 18,
      "outputs": []
    },
    {
      "cell_type": "code",
      "source": [
        "df['월 평균 리뷰 수'] = df['월 평균 리뷰 수'].fillna(0)"
      ],
      "metadata": {
        "id": "pLZQh0H_HGKq"
      },
      "execution_count": 19,
      "outputs": []
    },
    {
      "cell_type": "code",
      "source": [
        "df['마지막 리뷰 날짜'] = df['마지막 리뷰 날짜'].fillna('Unknown')"
      ],
      "metadata": {
        "id": "IjvepJUQHHib"
      },
      "execution_count": 20,
      "outputs": []
    },
    {
      "cell_type": "code",
      "source": [
        "df['예약 가능성'] = (df['연간 예약 가능 일수 (0~365)'] > 0).astype(int)"
      ],
      "metadata": {
        "id": "IhAG9_C1HLGN"
      },
      "execution_count": 21,
      "outputs": []
    },
    {
      "cell_type": "code",
      "source": [
        "df['예상 수익 (USD)'] = df['1박당 숙박 가격 (USD)'] * df['최소 숙박 일수']"
      ],
      "metadata": {
        "id": "XncDp0sTHM0m"
      },
      "execution_count": 22,
      "outputs": []
    },
    {
      "cell_type": "code",
      "source": [
        "print(df.head())"
      ],
      "metadata": {
        "colab": {
          "base_uri": "https://localhost:8080/"
        },
        "id": "M3C9HvViHddw",
        "outputId": "c07d61d5-7489-4134-d240-40194dad88ba"
      },
      "execution_count": 23,
      "outputs": [
        {
          "output_type": "stream",
          "name": "stdout",
          "text": [
            "   숙소 ID (고유 식별 번호)                                             숙소 이름  \\\n",
            "0              2539                Clean & quiet apt home by the park   \n",
            "1              2595                             Skylit Midtown Castle   \n",
            "2              3647               THE VILLAGE OF HARLEM....NEW YORK !   \n",
            "3              3831                   Cozy Entire Floor of Brownstone   \n",
            "4              5022  Entire Apt: Spacious Studio/Loft by central park   \n",
            "\n",
            "   호스트 ID (고유 번호)       호스트 이름      지역 그룹         세부 지역     숙소 위도     숙소 경도  \\\n",
            "0            2787         John   Brooklyn    Kensington  40.64749 -73.97237   \n",
            "1            2845     Jennifer  Manhattan       Midtown  40.75362 -73.98377   \n",
            "2            4632    Elisabeth  Manhattan        Harlem  40.80902 -73.94190   \n",
            "3            4869  LisaRoxanne   Brooklyn  Clinton Hill  40.68514 -73.95976   \n",
            "4            7192        Laura  Manhattan   East Harlem  40.79851 -73.94399   \n",
            "\n",
            "             객실 유형  1박당 숙박 가격 (USD)  최소 숙박 일수  리뷰 수   마지막 리뷰 날짜  월 평균 리뷰 수  \\\n",
            "0     Private room              149         1     9  2018-10-19       0.21   \n",
            "1  Entire home/apt              225         1    45  2019-05-21       0.38   \n",
            "2     Private room              150         3     0     Unknown       0.00   \n",
            "3  Entire home/apt               89         1   270  2019-07-05       4.64   \n",
            "4  Entire home/apt               80        10     9  2018-11-19       0.10   \n",
            "\n",
            "   호스트가 등록한 숙소 수  연간 예약 가능 일수 (0~365)  예약 가능성  예상 수익 (USD)  \n",
            "0              6                  365       1          149  \n",
            "1              2                  355       1          225  \n",
            "2              1                  365       1          450  \n",
            "3              1                  194       1           89  \n",
            "4              1                    0       0          800  \n"
          ]
        }
      ]
    },
    {
      "cell_type": "code",
      "source": [
        "df.to_csv('airbnb_processed.csv', index=False, encoding='utf-8-sig')"
      ],
      "metadata": {
        "id": "5NzQyjdyHgDK"
      },
      "execution_count": 13,
      "outputs": []
    },
    {
      "cell_type": "code",
      "source": [
        "from google.colab import files\n",
        "files.download('airbnb_processed.csv')"
      ],
      "metadata": {
        "colab": {
          "base_uri": "https://localhost:8080/",
          "height": 17
        },
        "id": "R86-9dsrHhuj",
        "outputId": "3bebb0dd-64b5-40c2-ce0a-9083a43d7b89"
      },
      "execution_count": 14,
      "outputs": [
        {
          "output_type": "display_data",
          "data": {
            "text/plain": [
              "<IPython.core.display.Javascript object>"
            ],
            "application/javascript": [
              "\n",
              "    async function download(id, filename, size) {\n",
              "      if (!google.colab.kernel.accessAllowed) {\n",
              "        return;\n",
              "      }\n",
              "      const div = document.createElement('div');\n",
              "      const label = document.createElement('label');\n",
              "      label.textContent = `Downloading \"${filename}\": `;\n",
              "      div.appendChild(label);\n",
              "      const progress = document.createElement('progress');\n",
              "      progress.max = size;\n",
              "      div.appendChild(progress);\n",
              "      document.body.appendChild(div);\n",
              "\n",
              "      const buffers = [];\n",
              "      let downloaded = 0;\n",
              "\n",
              "      const channel = await google.colab.kernel.comms.open(id);\n",
              "      // Send a message to notify the kernel that we're ready.\n",
              "      channel.send({})\n",
              "\n",
              "      for await (const message of channel.messages) {\n",
              "        // Send a message to notify the kernel that we're ready.\n",
              "        channel.send({})\n",
              "        if (message.buffers) {\n",
              "          for (const buffer of message.buffers) {\n",
              "            buffers.push(buffer);\n",
              "            downloaded += buffer.byteLength;\n",
              "            progress.value = downloaded;\n",
              "          }\n",
              "        }\n",
              "      }\n",
              "      const blob = new Blob(buffers, {type: 'application/binary'});\n",
              "      const a = document.createElement('a');\n",
              "      a.href = window.URL.createObjectURL(blob);\n",
              "      a.download = filename;\n",
              "      div.appendChild(a);\n",
              "      a.click();\n",
              "      div.remove();\n",
              "    }\n",
              "  "
            ]
          },
          "metadata": {}
        },
        {
          "output_type": "display_data",
          "data": {
            "text/plain": [
              "<IPython.core.display.Javascript object>"
            ],
            "application/javascript": [
              "download(\"download_9c099583-bbc2-47c5-b510-fb148da7c8b1\", \"airbnb_processed.csv\", 7473739)"
            ]
          },
          "metadata": {}
        }
      ]
    },
    {
      "cell_type": "code",
      "source": [
        "print(df.columns)"
      ],
      "metadata": {
        "colab": {
          "base_uri": "https://localhost:8080/"
        },
        "id": "T7nYMmeUJK53",
        "outputId": "dae5d84e-0860-4255-b731-714db4c1905f"
      },
      "execution_count": 15,
      "outputs": [
        {
          "output_type": "stream",
          "name": "stdout",
          "text": [
            "Index(['숙소 ID (고유 식별 번호)', '숙소 이름', '호스트 ID (고유 번호)', '호스트 이름', '지역 그룹',\n",
            "       '세부 지역', '숙소 위도', '숙소 경도', '객실 유형', '1박당 숙박 가격 (USD)', '최소 숙박 일수',\n",
            "       '리뷰 수', '마지막 리뷰 날짜', '월 평균 리뷰 수', '호스트가 등록한 숙소 수',\n",
            "       '연간 예약 가능 일수 (0~365)', '예약 가능성', '예상 수익 (USD)'],\n",
            "      dtype='object')\n"
          ]
        }
      ]
    },
    {
      "cell_type": "markdown",
      "source": [],
      "metadata": {
        "id": "gKy7GkYFJKwN"
      }
    }
  ]
}