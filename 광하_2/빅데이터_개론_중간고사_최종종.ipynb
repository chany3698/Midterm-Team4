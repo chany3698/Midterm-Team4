{
  "nbformat": 4,
  "nbformat_minor": 0,
  "metadata": {
    "colab": {
      "provenance": []
    },
    "kernelspec": {
      "name": "python3",
      "display_name": "Python 3"
    },
    "language_info": {
      "name": "python"
    }
  },
  "cells": [
    {
      "cell_type": "code",
      "source": [
        "import pandas as pd\n",
        "\n",
        "df = pd.read_csv('2_Card.csv')"
      ],
      "metadata": {
        "id": "yclthabK8LS9"
      },
      "execution_count": 8,
      "outputs": []
    },
    {
      "cell_type": "code",
      "source": [
        "print(df.head())\n"
      ],
      "metadata": {
        "colab": {
          "base_uri": "https://localhost:8080/"
        },
        "id": "D7BwggPBDJPA",
        "outputId": "e37aac95-7121-40f0-8fef-cfaedf709d67"
      },
      "execution_count": 9,
      "outputs": [
        {
          "output_type": "stream",
          "name": "stdout",
          "text": [
            "   ID  LIMIT_BAL  SEX  EDUCATION  MARRIAGE  AGE  PAY_0  PAY_2  PAY_3  PAY_4  \\\n",
            "0   1    20000.0    2          2         1   24      2      2     -1     -1   \n",
            "1   2   120000.0    2          2         2   26     -1      2      0      0   \n",
            "2   3    90000.0    2          2         2   34      0      0      0      0   \n",
            "3   4    50000.0    2          2         1   37      0      0      0      0   \n",
            "4   5    50000.0    1          2         1   57     -1      0     -1      0   \n",
            "\n",
            "   ...  BILL_AMT4  BILL_AMT5  BILL_AMT6  PAY_AMT1  PAY_AMT2  PAY_AMT3  \\\n",
            "0  ...        0.0        0.0        0.0       0.0     689.0       0.0   \n",
            "1  ...     3272.0     3455.0     3261.0       0.0    1000.0    1000.0   \n",
            "2  ...    14331.0    14948.0    15549.0    1518.0    1500.0    1000.0   \n",
            "3  ...    28314.0    28959.0    29547.0    2000.0    2019.0    1200.0   \n",
            "4  ...    20940.0    19146.0    19131.0    2000.0   36681.0   10000.0   \n",
            "\n",
            "   PAY_AMT4  PAY_AMT5  PAY_AMT6  default.payment.next.month  \n",
            "0       0.0       0.0       0.0                           1  \n",
            "1    1000.0       0.0    2000.0                           1  \n",
            "2    1000.0    1000.0    5000.0                           0  \n",
            "3    1100.0    1069.0    1000.0                           0  \n",
            "4    9000.0     689.0     679.0                           0  \n",
            "\n",
            "[5 rows x 25 columns]\n"
          ]
        }
      ]
    },
    {
      "cell_type": "code",
      "source": [
        "\n",
        "df = df.rename(columns={\n",
        "    'ID': '고객 ID (고유번호)',\n",
        "    'LIMIT_BAL': '신용카드 한도 금액 (원 단위)',\n",
        "    'SEX': '성별 (1=남성, 2=여성)',\n",
        "    'EDUCATION': '교육 수준 (1=대학원, 2=대학, 3=고등학교, 4=기타)',\n",
        "    'MARRIAGE': '결혼상태(1=기혼, 2=미혼, 3=기타)',\n",
        "    'AGE': '나이 (세 단위)',\n",
        "    'PAY_0': '직전 월 상환 이력 (0=정상, 1=1개월 연체, 2=2개월 연체, 등)',\n",
        "    'PAY_2': '2개월 전 상환 이력',\n",
        "    'PAY_3': '3개월 전 상환 이력',\n",
        "    'PAY_4': '4개월 전 상환 이력',\n",
        "    'PAY_5': '5개월 전 상환 이력',\n",
        "    'PAY_6': '6개월 전 상환 이력',\n",
        "    'BILL_AMT1': '최근 1개월 청구서 금액',\n",
        "    'BILL_AMT2': '2개월 전 청구서 금액',\n",
        "    'BILL_AMT3': '3개월 전 청구서 금액',\n",
        "    'BILL_AMT4': '4개월 전 청구서 금액',\n",
        "    'BILL_AMT5': '5개월 전 청구서 금액',\n",
        "    'BILL_AMT6': '6개월 전 청구서 금액',\n",
        "    'PAY_AMT1': '최근 1개월 실제 납부 금액',\n",
        "    'PAY_AMT2': '2개월 전 실제 납부 금액',\n",
        "    'PAY_AMT3': '3개월 전 실제 납부 금액',\n",
        "    'PAY_AMT4': '4개월 전 실제 납부 금액',\n",
        "    'PAY_AMT5': '5개월 전 실제 납부 금액',\n",
        "    'PAY_AMT6': '6개월 전 실제 납부 금액',\n",
        "    'default.payment.next.month': '다음 달 연체 여부 (0=정상, 1=연체)'\n",
        "})\n",
        "\n",
        "\n",
        "df['남성'] = (df['성별 (1=남성, 2=여성)'] == 1).astype(int)\n",
        "df['여성'] = (df['성별 (1=남성, 2=여성)'] == 2).astype(int)\n",
        "\n",
        "df['교육 수준'] = df['교육 수준 (1=대학원, 2=대학, 3=고등학교, 4=기타)'].map({\n",
        "    1: '대학원',\n",
        "    2: '대학',\n",
        "    3: '고등학교',\n",
        "    4: '기타',\n",
        "    5: '기타',\n",
        "    6: '기타'\n",
        "})\n",
        "\n",
        "\n",
        "df['결혼 상태'] = df['결혼상태(1=기혼, 2=미혼, 3=기타)'].map({\n",
        "    1: '기혼',\n",
        "    2: '미혼',\n",
        "    3: '기타'\n",
        "})\n",
        "\n",
        "\n",
        "df = df.drop(columns=[\n",
        "    '성별 (1=남성, 2=여성)',\n",
        "    '교육 수준 (1=대학원, 2=대학, 3=고등학교, 4=기타)',\n",
        "    '결혼상태(1=기혼, 2=미혼, 3=기타)'\n",
        "])"
      ],
      "metadata": {
        "id": "1WoyMEjEDM7k"
      },
      "execution_count": 10,
      "outputs": []
    },
    {
      "cell_type": "code",
      "source": [
        "df.to_csv('credit_default_processed.csv', index=False, encoding='utf-8-sig')"
      ],
      "metadata": {
        "id": "pMTA9GdpDckS"
      },
      "execution_count": 11,
      "outputs": []
    },
    {
      "cell_type": "code",
      "source": [
        "from google.colab import files\n",
        "files.download('credit_default_processed.csv')"
      ],
      "metadata": {
        "colab": {
          "base_uri": "https://localhost:8080/",
          "height": 17
        },
        "id": "UY17IGU2DeE6",
        "outputId": "e6298026-42c3-4e5c-ab5c-92de51ce6012"
      },
      "execution_count": 12,
      "outputs": [
        {
          "output_type": "display_data",
          "data": {
            "text/plain": [
              "<IPython.core.display.Javascript object>"
            ],
            "application/javascript": [
              "\n",
              "    async function download(id, filename, size) {\n",
              "      if (!google.colab.kernel.accessAllowed) {\n",
              "        return;\n",
              "      }\n",
              "      const div = document.createElement('div');\n",
              "      const label = document.createElement('label');\n",
              "      label.textContent = `Downloading \"${filename}\": `;\n",
              "      div.appendChild(label);\n",
              "      const progress = document.createElement('progress');\n",
              "      progress.max = size;\n",
              "      div.appendChild(progress);\n",
              "      document.body.appendChild(div);\n",
              "\n",
              "      const buffers = [];\n",
              "      let downloaded = 0;\n",
              "\n",
              "      const channel = await google.colab.kernel.comms.open(id);\n",
              "      // Send a message to notify the kernel that we're ready.\n",
              "      channel.send({})\n",
              "\n",
              "      for await (const message of channel.messages) {\n",
              "        // Send a message to notify the kernel that we're ready.\n",
              "        channel.send({})\n",
              "        if (message.buffers) {\n",
              "          for (const buffer of message.buffers) {\n",
              "            buffers.push(buffer);\n",
              "            downloaded += buffer.byteLength;\n",
              "            progress.value = downloaded;\n",
              "          }\n",
              "        }\n",
              "      }\n",
              "      const blob = new Blob(buffers, {type: 'application/binary'});\n",
              "      const a = document.createElement('a');\n",
              "      a.href = window.URL.createObjectURL(blob);\n",
              "      a.download = filename;\n",
              "      div.appendChild(a);\n",
              "      a.click();\n",
              "      div.remove();\n",
              "    }\n",
              "  "
            ]
          },
          "metadata": {}
        },
        {
          "output_type": "display_data",
          "data": {
            "text/plain": [
              "<IPython.core.display.Javascript object>"
            ],
            "application/javascript": [
              "download(\"download_a100c9d6-cb57-4515-b26b-91186c93277b\", \"credit_default_processed.csv\", 4068605)"
            ]
          },
          "metadata": {}
        }
      ]
    },
    {
      "cell_type": "code",
      "source": [],
      "metadata": {
        "id": "-HuR79s_Dyat"
      },
      "execution_count": null,
      "outputs": []
    }
  ]
}